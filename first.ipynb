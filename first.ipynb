{
 "cells": [
  {
   "cell_type": "code",
   "execution_count": 1,
   "metadata": {
    "collapsed": true
   },
   "outputs": [
    {
     "name": "stdout",
     "output_type": "stream",
     "text": [
      "hello\n"
     ]
    }
   ],
   "source": [
    "print(\"hello\")"
   ]
  },
  {
   "cell_type": "code",
   "execution_count": null,
   "outputs": [],
   "source": [],
   "metadata": {
    "collapsed": false,
    "pycharm": {
     "name": "#%%\n"
    }
   }
  },
  {
   "cell_type": "code",
   "execution_count": 4,
   "outputs": [
    {
     "name": "stdout",
     "output_type": "stream",
     "text": [
      "No Java runtime present, requesting install.\r\n",
      "No Java runtime present, requesting install.\r\n",
      "Collecting manim\r\n",
      "\u001B[?25l  Downloading https://files.pythonhosted.org/packages/51/54/928aa03559264bd1de965aab97873e7c60d0cc932eae0ab39146002c309a/manim-0.15.0-py3-none-any.whl (523kB)\r\n",
      "\u001B[K     |████████████████████████████████| 532kB 1.1MB/s eta 0:00:01\r\n",
      "\u001B[?25hCollecting networkx<3.0,>=2.5 (from manim)\r\n",
      "\u001B[?25l  Downloading https://files.pythonhosted.org/packages/e9/93/aa6613aa70d6eb4868e667068b5a11feca9645498fd31b954b6c4bb82fa5/networkx-2.6.3-py3-none-any.whl (1.9MB)\r\n",
      "\u001B[K     |████████████████████████████████| 1.9MB 3.7MB/s eta 0:00:01\r\n",
      "\u001B[?25hCollecting importlib-metadata<5.0.0,>=4.10.0; python_version < \"3.8\" (from manim)\r\n",
      "  Using cached https://files.pythonhosted.org/packages/70/76/a44cce0f66f73ec6d5d8138f47a16cd3f9e57f4720bce7492d372ef5c74f/importlib_metadata-4.11.2-py3-none-any.whl\r\n",
      "Collecting cloup<0.8.0,>=0.7.0 (from manim)\r\n",
      "  Downloading https://files.pythonhosted.org/packages/4b/c5/0a47ad3613dc43a6a984efdadb85b3afbc6f4acff2e6dc5c05e3752d680b/cloup-0.7.1-py2.py3-none-any.whl\r\n",
      "Collecting pycairo<2.0,>=1.19 (from manim)\r\n",
      "\u001B[?25l  Downloading https://files.pythonhosted.org/packages/bc/3f/64e6e066d163fbcf13213f9eeda0fc83376243335ea46a66cefd70d62e8f/pycairo-1.20.1.tar.gz (344kB)\r\n",
      "\u001B[K     |████████████████████████████████| 348kB 4.8MB/s eta 0:00:01\r\n",
      "\u001B[?25h  Installing build dependencies ... \u001B[?25ldone\r\n",
      "\u001B[?25h  Getting requirements to build wheel ... \u001B[?25ldone\r\n",
      "\u001B[?25h    Preparing wheel metadata ... \u001B[?25ldone\r\n",
      "\u001B[?25hCollecting scipy<2.0.0,>=1.7.3 (from manim)\r\n",
      "\u001B[?25l  Downloading https://files.pythonhosted.org/packages/85/64/5dbe0daf0beb14c3cd4b9a3493c5dc1fda68d13ad3fe0b173be8032e3172/scipy-1.7.3-cp37-cp37m-macosx_10_9_x86_64.whl (33.0MB)\r\n",
      "\u001B[K     |████████████████████████████████| 33.0MB 2.6MB/s eta 0:00:011\r\n",
      "\u001B[?25hCollecting backports.cached-property<2.0.0,>=1.0.1 (from manim)\r\n",
      "  Downloading https://files.pythonhosted.org/packages/d8/32/77a2792d80c00083626e0d6ce41ba8254b632c960235d3a5a731c185d936/backports.cached_property-1.0.1-py3-none-any.whl\r\n",
      "Collecting requests<3.0.0,>=2.26.0 (from manim)\r\n",
      "\u001B[?25l  Downloading https://files.pythonhosted.org/packages/2d/61/08076519c80041bc0ffa1a8af0cbd3bf3e2b62af10435d269a9d0f40564d/requests-2.27.1-py2.py3-none-any.whl (63kB)\r\n",
      "\u001B[K     |████████████████████████████████| 71kB 8.5MB/s eta 0:00:011\r\n",
      "\u001B[?25hCollecting Pillow<10.0,>=8.4 (from manim)\r\n",
      "\u001B[?25l  Downloading https://files.pythonhosted.org/packages/ad/04/c6e1f42066d3ad04bd0b9bd59092d703eee27b8e87bbb0954f69889daca8/Pillow-9.0.1-cp37-cp37m-macosx_10_10_x86_64.whl (3.0MB)\r\n",
      "\u001B[K     |████████████████████████████████| 3.0MB 9.4MB/s eta 0:00:01\r\n",
      "\u001B[?25hCollecting rich>=6.0 (from manim)\r\n",
      "\u001B[?25l  Downloading https://files.pythonhosted.org/packages/74/41/6adf6aeb9b3d4a058a82fd053cbb6824432269caa0998574cb766c555287/rich-11.2.0-py3-none-any.whl (217kB)\r\n",
      "\u001B[K     |████████████████████████████████| 225kB 10.5MB/s eta 0:00:01\r\n",
      "\u001B[?25hCollecting watchdog<3.0.0,>=2.1.6 (from manim)\r\n",
      "\u001B[?25l  Downloading https://files.pythonhosted.org/packages/a1/54/1fb089b979bd7e2e01edc09da98946791e28023d46fc2e3d57ed7987b700/watchdog-2.1.6-cp37-cp37m-macosx_10_9_x86_64.whl (85kB)\r\n",
      "\u001B[K     |████████████████████████████████| 92kB 7.8MB/s eta 0:00:011\r\n",
      "\u001B[?25hCollecting srt<4.0.0,>=3.5.0 (from manim)\r\n",
      "  Downloading https://files.pythonhosted.org/packages/97/00/3aa5865ab86ee5d7aa0b7da2f07973b76f07230a1d4c359b25ba6a5d96b1/srt-3.5.1.tar.gz\r\n",
      "Collecting click>=7.1 (from manim)\r\n",
      "\u001B[?25l  Downloading https://files.pythonhosted.org/packages/4a/a8/0b2ced25639fb20cc1c9784de90a8c25f9504a7f18cd8b5397bd61696d7d/click-8.0.4-py3-none-any.whl (97kB)\r\n",
      "\u001B[K     |████████████████████████████████| 102kB 7.0MB/s ta 0:00:011\r\n",
      "\u001B[?25hCollecting manimpango<0.5.0,>=0.4.0.post0 (from manim)\r\n",
      "\u001B[?25l  Downloading https://files.pythonhosted.org/packages/dd/d5/aaa4956a61fbd4d5c96fc64502d936829b283dcad58d4ede4830c6860c20/ManimPango-0.4.0.post2-cp37-cp37m-macosx_10_9_x86_64.whl (3.9MB)\r\n",
      "\u001B[K     |████████████████████████████████| 3.9MB 10.7MB/s eta 0:00:01\r\n",
      "\u001B[?25hCollecting screeninfo<0.9,>=0.8 (from manim)\r\n",
      "  Downloading https://files.pythonhosted.org/packages/d0/45/3542d25929d28a6d476e909b5285cb82ce999d36833303395b5011b2d22e/screeninfo-0.8-py3-none-any.whl\r\n",
      "Collecting Pygments<3.0.0,>=2.10.0 (from manim)\r\n",
      "  Using cached https://files.pythonhosted.org/packages/1d/17/ed4d2df187995561b28f1073df24137cb750e12f9879d291cc8ab67c65d2/Pygments-2.11.2-py3-none-any.whl\r\n",
      "Collecting decorator<6.0.0,>=5.0.7 (from manim)\r\n",
      "  Using cached https://files.pythonhosted.org/packages/d5/50/83c593b07763e1161326b3b8c6686f0f4b0f24d5526546bee538c89837d6/decorator-5.1.1-py3-none-any.whl\r\n",
      "Collecting click-default-group<2.0.0,>=1.2.2 (from manim)\r\n",
      "  Downloading https://files.pythonhosted.org/packages/22/3a/e9feb3435bd4b002d183fcb9ee08fb369a7e570831ab1407bc73f079948f/click-default-group-1.2.2.tar.gz\r\n",
      "Requirement already satisfied: numpy<2.0,>=1.9 in /Users/shangmeimei/opt/anaconda3/lib/python3.7/site-packages (from manim) (1.17.2)\r\n",
      "Collecting skia-pathops<0.8.0,>=0.7.0 (from manim)\r\n",
      "\u001B[?25l  Downloading https://files.pythonhosted.org/packages/10/82/e2314427d013ad6cde49a40b907e2c5dc4c95548a82056fe6177abe6f3c2/skia_pathops-0.7.2-cp37-cp37m-macosx_10_9_x86_64.whl (1.6MB)\r\n",
      "\u001B[K     |████████████████████████████████| 1.6MB 8.2MB/s eta 0:00:01\r\n",
      "\u001B[?25hCollecting colour<0.2.0,>=0.1.5 (from manim)\r\n",
      "  Downloading https://files.pythonhosted.org/packages/74/46/e81907704ab203206769dee1385dc77e1407576ff8f50a0681d0a6b541be/colour-0.1.5-py2.py3-none-any.whl\r\n",
      "Collecting moderngl-window<3.0.0,>=2.3.0 (from manim)\r\n",
      "\u001B[?25l  Downloading https://files.pythonhosted.org/packages/0a/e4/2d74d680cd8d5fe16e4d55a2cd5f7da7e8acf937f315cba9d681393eb08b/moderngl_window-2.4.1-py3-none-any.whl (365kB)\r\n",
      "\u001B[K     |████████████████████████████████| 368kB 8.7MB/s eta 0:00:01\r\n",
      "\u001B[?25hCollecting moderngl<6.0.0,>=5.6.3 (from manim)\r\n",
      "\u001B[?25l  Downloading https://files.pythonhosted.org/packages/d5/b0/35db42edfe4fc471612ba48a79e27cfb360fcbaf8ec0a59d9176640c97de/moderngl-5.6.4-cp37-cp37m-macosx_10_9_x86_64.whl (143kB)\r\n",
      "\u001B[K     |████████████████████████████████| 153kB 6.6MB/s eta 0:00:01\r\n",
      "\u001B[?25hCollecting mapbox-earcut<0.13.0,>=0.12.10 (from manim)\r\n",
      "\u001B[?25l  Downloading https://files.pythonhosted.org/packages/c2/27/2d05c6ef4235e23a26655e3626246a9fbaf678a7350a262a3722f2d7038c/mapbox_earcut-0.12.11-cp37-cp37m-macosx_10_9_x86_64.whl (69kB)\r\n",
      "\u001B[K     |████████████████████████████████| 71kB 11.9MB/s eta 0:00:01\r\n",
      "\u001B[?25hCollecting pydub<0.26.0,>=0.25.1 (from manim)\r\n",
      "  Downloading https://files.pythonhosted.org/packages/a6/53/d78dc063216e62fc55f6b2eebb447f6a4b0a59f55c8406376f76bf959b08/pydub-0.25.1-py2.py3-none-any.whl\r\n",
      "Collecting tqdm<5.0.0,>=4.62.3 (from manim)\r\n",
      "\u001B[?25l  Downloading https://files.pythonhosted.org/packages/81/1c/93a2b77b97cdba15a59c3d2d03e53d3292158d1106d37f579069abd90ece/tqdm-4.63.0-py2.py3-none-any.whl (76kB)\r\n",
      "\u001B[K     |████████████████████████████████| 81kB 4.1MB/s eta 0:00:01\r\n",
      "\u001B[?25hCollecting isosurfaces==0.1.0 (from manim)\r\n",
      "  Downloading https://files.pythonhosted.org/packages/24/9f/c19af91dd20382796fab76b9ea637b5e0a91f22a749b46d228dd4320e0fe/isosurfaces-0.1.0-py3-none-any.whl\r\n",
      "Requirement already satisfied: zipp>=0.5 in /Users/shangmeimei/opt/anaconda3/lib/python3.7/site-packages (from importlib-metadata<5.0.0,>=4.10.0; python_version < \"3.8\"->manim) (0.6.0)\r\n",
      "Collecting typing-extensions>=3.6.4; python_version < \"3.8\" (from importlib-metadata<5.0.0,>=4.10.0; python_version < \"3.8\"->manim)\r\n",
      "  Using cached https://files.pythonhosted.org/packages/45/6b/44f7f8f1e110027cf88956b59f2fad776cca7e1704396d043f89effd3a0e/typing_extensions-4.1.1-py3-none-any.whl\r\n",
      "Collecting charset-normalizer~=2.0.0; python_version >= \"3\" (from requests<3.0.0,>=2.26.0->manim)\r\n",
      "  Downloading https://files.pythonhosted.org/packages/06/b3/24afc8868eba069a7f03650ac750a778862dc34941a4bebeb58706715726/charset_normalizer-2.0.12-py3-none-any.whl\r\n",
      "Requirement already satisfied: urllib3<1.27,>=1.21.1 in /Users/shangmeimei/opt/anaconda3/lib/python3.7/site-packages (from requests<3.0.0,>=2.26.0->manim) (1.24.2)\r\n",
      "Requirement already satisfied: idna<4,>=2.5; python_version >= \"3\" in /Users/shangmeimei/opt/anaconda3/lib/python3.7/site-packages (from requests<3.0.0,>=2.26.0->manim) (2.8)\r\n",
      "Requirement already satisfied: certifi>=2017.4.17 in /Users/shangmeimei/opt/anaconda3/lib/python3.7/site-packages (from requests<3.0.0,>=2.26.0->manim) (2019.9.11)\r\n",
      "Collecting commonmark<0.10.0,>=0.9.0 (from rich>=6.0->manim)\r\n",
      "\u001B[?25l  Downloading https://files.pythonhosted.org/packages/b1/92/dfd892312d822f36c55366118b95d914e5f16de11044a27cf10a7d71bbbf/commonmark-0.9.1-py2.py3-none-any.whl (51kB)\r\n",
      "\u001B[K     |████████████████████████████████| 51kB 11.2MB/s eta 0:00:01\r\n",
      "\u001B[?25hRequirement already satisfied: colorama<0.5.0,>=0.4.0 in /Users/shangmeimei/opt/anaconda3/lib/python3.7/site-packages (from rich>=6.0->manim) (0.4.1)\r\n",
      "Requirement already satisfied: Cython; sys_platform == \"darwin\" in /Users/shangmeimei/opt/anaconda3/lib/python3.7/site-packages (from screeninfo<0.9,>=0.8->manim) (0.29.13)\r\n",
      "Collecting pyobjc-framework-Cocoa; sys_platform == \"darwin\" (from screeninfo<0.9,>=0.8->manim)\r\n",
      "\u001B[?25l  Downloading https://files.pythonhosted.org/packages/bd/01/336d1673ac146d2d2662efebba4d3856987f1209d55c2b84d1b1023da0ac/pyobjc_framework_Cocoa-8.3-cp37-cp37m-macosx_10_9_x86_64.whl (276kB)\r\n",
      "\u001B[K     |████████████████████████████████| 286kB 8.8MB/s eta 0:00:01\r\n",
      "\u001B[?25hCollecting pyrr<1,>=0.10.3 (from moderngl-window<3.0.0,>=2.3.0->manim)\r\n",
      "\u001B[?25l  Downloading https://files.pythonhosted.org/packages/80/d4/09bb74e93f9f677eadcf9ddb92681755f75e0f354a1b904f1913e32ca1b2/pyrr-0.10.3-py3-none-any.whl (46kB)\r\n",
      "\u001B[K     |████████████████████████████████| 51kB 9.8MB/s  eta 0:00:01\r\n",
      "\u001B[?25hCollecting pyglet<2,>=1.5.8 (from moderngl-window<3.0.0,>=2.3.0->manim)\r\n",
      "\u001B[?25l  Downloading https://files.pythonhosted.org/packages/ad/8f/1661c1998f24ec41f14146ed3990f899a3c4e97ddec16fd099f0655aac42/pyglet-1.5.22-py3-none-any.whl (1.1MB)\r\n",
      "\u001B[K     |████████████████████████████████| 1.1MB 9.4MB/s eta 0:00:01\r\n",
      "\u001B[?25hCollecting glcontext<3,>=2 (from moderngl<6.0.0,>=5.6.3->manim)\r\n",
      "  Downloading https://files.pythonhosted.org/packages/e9/00/3bc17c8bcf214d4a5d3ed4f3daa9b1fe1fc4f81013f3d5d5e93efbe3a93f/glcontext-2.3.4-cp37-cp37m-macosx_10_14_x86_64.whl\r\n",
      "Requirement already satisfied: more-itertools in /Users/shangmeimei/opt/anaconda3/lib/python3.7/site-packages (from zipp>=0.5->importlib-metadata<5.0.0,>=4.10.0; python_version < \"3.8\"->manim) (7.2.0)\r\n",
      "Collecting pyobjc-core>=8.3 (from pyobjc-framework-Cocoa; sys_platform == \"darwin\"->screeninfo<0.9,>=0.8->manim)\r\n",
      "\u001B[?25l  Downloading https://files.pythonhosted.org/packages/c0/8c/545ad89a688747c462340635779fd199f5dcc042b85da3395e9785525b08/pyobjc_core-8.3-cp37-cp37m-macosx_10_9_x86_64.whl (302kB)\r\n",
      "\u001B[K     |████████████████████████████████| 307kB 8.4MB/s eta 0:00:01\r\n",
      "\u001B[?25hRequirement already satisfied: multipledispatch in /Users/shangmeimei/opt/anaconda3/lib/python3.7/site-packages (from pyrr<1,>=0.10.3->moderngl-window<3.0.0,>=2.3.0->manim) (0.6.0)\r\n",
      "Requirement already satisfied: six in /Users/shangmeimei/opt/anaconda3/lib/python3.7/site-packages (from multipledispatch->pyrr<1,>=0.10.3->moderngl-window<3.0.0,>=2.3.0->manim) (1.12.0)\r\n",
      "Building wheels for collected packages: pycairo\r\n",
      "  Building wheel for pycairo (PEP 517) ... \u001B[?25lerror\r\n",
      "\u001B[31m  ERROR: Command errored out with exit status 1:\r\n",
      "   command: /Users/shangmeimei/opt/anaconda3/bin/python /Users/shangmeimei/opt/anaconda3/lib/python3.7/site-packages/pip/_vendor/pep517/_in_process.py build_wheel /var/folders/9p/bjx3p5v13wx6yv_52bpm47k00000gn/T/tmppwcqgelj\r\n",
      "       cwd: /private/var/folders/9p/bjx3p5v13wx6yv_52bpm47k00000gn/T/pip-install-e9eubqzc/pycairo\r\n",
      "  Complete output (12 lines):\r\n",
      "  running bdist_wheel\r\n",
      "  running build\r\n",
      "  running build_py\r\n",
      "  creating build\r\n",
      "  creating build/lib.macosx-10.9-x86_64-3.7\r\n",
      "  creating build/lib.macosx-10.9-x86_64-3.7/cairo\r\n",
      "  copying cairo/__init__.py -> build/lib.macosx-10.9-x86_64-3.7/cairo\r\n",
      "  copying cairo/__init__.pyi -> build/lib.macosx-10.9-x86_64-3.7/cairo\r\n",
      "  copying cairo/py.typed -> build/lib.macosx-10.9-x86_64-3.7/cairo\r\n",
      "  running build_ext\r\n",
      "  'pkg-config' not found.\r\n",
      "  Command ['pkg-config', '--print-errors', '--exists', 'cairo >= 1.15.10']\r\n",
      "  ----------------------------------------\u001B[0m\r\n",
      "\u001B[31m  ERROR: Failed building wheel for pycairo\u001B[0m\r\n",
      "\u001B[?25h  Running setup.py clean for pycairo\r\n",
      "Failed to build pycairo\r\n",
      "Building wheels for collected packages: srt, click-default-group\r\n",
      "  Building wheel for srt (setup.py) ... \u001B[?25ldone\r\n",
      "\u001B[?25h  Created wheel for srt: filename=srt-3.5.1-cp37-none-any.whl size=22324 sha256=a28f4a2b83961d9685bf8dca2ece03a6ed662e1990680305ca0a4b20b7eb3dfb\r\n",
      "  Stored in directory: /Users/shangmeimei/Library/Caches/pip/wheels/3e/1c/30/b4cca74c92c2ac4f72d6083f5409bd470bf128f08cc3555806\r\n",
      "  Building wheel for click-default-group (setup.py) ... \u001B[?25ldone\r\n",
      "\u001B[?25h  Created wheel for click-default-group: filename=click_default_group-1.2.2-cp37-none-any.whl size=3385 sha256=17148b2e5482722a2d6f5f5ca5ff7e0d79d485551c4c49bbaf2ddca288ef0e3c\r\n",
      "  Stored in directory: /Users/shangmeimei/Library/Caches/pip/wheels/ca/ed/79/2200269c285b0d21ab4591c6388a14691a4fc77d76bec40fe2\r\n",
      "Successfully built srt click-default-group\r\n",
      "\u001B[31mERROR: Could not build wheels for pycairo which use PEP 517 and cannot be installed directly\u001B[0m\r\n",
      "Collecting IPython\r\n",
      "  Using cached https://files.pythonhosted.org/packages/38/7a/4cb724163ceb72183dc41a267e28be3e8412fdb036e6d7ce806136a6112f/ipython-7.32.0-py3-none-any.whl\r\n",
      "Requirement already satisfied, skipping upgrade: prompt-toolkit!=3.0.0,!=3.0.1,<3.1.0,>=2.0.0 in /Users/shangmeimei/opt/anaconda3/lib/python3.7/site-packages (from IPython) (2.0.10)\r\n",
      "Requirement already satisfied, skipping upgrade: backcall in /Users/shangmeimei/opt/anaconda3/lib/python3.7/site-packages (from IPython) (0.1.0)\r\n",
      "Requirement already satisfied, skipping upgrade: appnope; sys_platform == \"darwin\" in /Users/shangmeimei/opt/anaconda3/lib/python3.7/site-packages (from IPython) (0.1.0)\r\n",
      "Requirement already satisfied, skipping upgrade: setuptools>=18.5 in /Users/shangmeimei/opt/anaconda3/lib/python3.7/site-packages (from IPython) (41.4.0)\r\n",
      "Requirement already satisfied, skipping upgrade: traitlets>=4.2 in /Users/shangmeimei/opt/anaconda3/lib/python3.7/site-packages (from IPython) (4.3.3)\r\n",
      "Requirement already satisfied, skipping upgrade: pexpect>4.3; sys_platform != \"win32\" in /Users/shangmeimei/opt/anaconda3/lib/python3.7/site-packages (from IPython) (4.7.0)\r\n",
      "Requirement already satisfied, skipping upgrade: decorator in /Users/shangmeimei/opt/anaconda3/lib/python3.7/site-packages (from IPython) (4.4.0)\r\n",
      "Requirement already satisfied, skipping upgrade: pygments in /Users/shangmeimei/opt/anaconda3/lib/python3.7/site-packages (from IPython) (2.4.2)\r\n",
      "Collecting matplotlib-inline (from IPython)\r\n",
      "  Using cached https://files.pythonhosted.org/packages/a6/2d/2230afd570c70074e80fd06857ba2bdc5f10c055bd9125665fe276fadb67/matplotlib_inline-0.1.3-py3-none-any.whl\r\n",
      "Collecting jedi>=0.16 (from IPython)\r\n",
      "  Using cached https://files.pythonhosted.org/packages/b3/0e/836f12ec50075161e365131f13f5758451645af75c2becf61c6351ecec39/jedi-0.18.1-py2.py3-none-any.whl\r\n",
      "Requirement already satisfied, skipping upgrade: pickleshare in /Users/shangmeimei/opt/anaconda3/lib/python3.7/site-packages (from IPython) (0.7.5)\r\n",
      "Requirement already satisfied, skipping upgrade: six>=1.9.0 in /Users/shangmeimei/opt/anaconda3/lib/python3.7/site-packages (from prompt-toolkit!=3.0.0,!=3.0.1,<3.1.0,>=2.0.0->IPython) (1.12.0)\r\n",
      "Requirement already satisfied, skipping upgrade: wcwidth in /Users/shangmeimei/opt/anaconda3/lib/python3.7/site-packages (from prompt-toolkit!=3.0.0,!=3.0.1,<3.1.0,>=2.0.0->IPython) (0.1.7)\r\n",
      "Requirement already satisfied, skipping upgrade: ipython-genutils in /Users/shangmeimei/opt/anaconda3/lib/python3.7/site-packages (from traitlets>=4.2->IPython) (0.2.0)\r\n",
      "Requirement already satisfied, skipping upgrade: ptyprocess>=0.5 in /Users/shangmeimei/opt/anaconda3/lib/python3.7/site-packages (from pexpect>4.3; sys_platform != \"win32\"->IPython) (0.6.0)\r\n",
      "Collecting parso<0.9.0,>=0.8.0 (from jedi>=0.16->IPython)\r\n",
      "  Using cached https://files.pythonhosted.org/packages/05/63/8011bd08a4111858f79d2b09aad86638490d62fbf881c44e434a6dfca87b/parso-0.8.3-py2.py3-none-any.whl\r\n",
      "\u001B[31mERROR: spyder 3.3.6 requires pyqt5<5.13; python_version >= \"3\", which is not installed.\u001B[0m\r\n",
      "\u001B[31mERROR: spyder 3.3.6 requires pyqtwebengine<5.13; python_version >= \"3\", which is not installed.\u001B[0m\r\n",
      "Installing collected packages: matplotlib-inline, parso, jedi, IPython\r\n",
      "  Found existing installation: parso 0.5.1\r\n",
      "    Uninstalling parso-0.5.1:\r\n",
      "      Successfully uninstalled parso-0.5.1\r\n",
      "  Found existing installation: jedi 0.15.1\r\n",
      "    Uninstalling jedi-0.15.1:\r\n",
      "      Successfully uninstalled jedi-0.15.1\r\n",
      "  Found existing installation: ipython 7.8.0\r\n",
      "    Uninstalling ipython-7.8.0:\r\n",
      "      Successfully uninstalled ipython-7.8.0\r\n",
      "Successfully installed IPython-7.32.0 jedi-0.18.1 matplotlib-inline-0.1.3 parso-0.8.3\r\n"
     ]
    }
   ],
   "source": [
    "!apt update\n",
    "!apt install libcairo2-dev ffmpeg texlive texlive-latex-extra texlive-fonts-extra texlive-latex-recommended texlive-science tipa libpango1.0-dev\n",
    "!pip install manim\n",
    "!pip install IPython --upgrade"
   ],
   "metadata": {
    "collapsed": false,
    "pycharm": {
     "name": "#%%\n"
    }
   }
  },
  {
   "cell_type": "code",
   "execution_count": 7,
   "outputs": [],
   "source": [
    "from manim import *"
   ],
   "metadata": {
    "collapsed": false,
    "pycharm": {
     "name": "#%%\n"
    }
   }
  },
  {
   "cell_type": "code",
   "execution_count": 10,
   "outputs": [
    {
     "ename": "NameError",
     "evalue": "name 'Scene' is not defined",
     "output_type": "error",
     "traceback": [
      "\u001B[0;31m---------------------------------------------------------------------------\u001B[0m",
      "\u001B[0;31mNameError\u001B[0m                                 Traceback (most recent call last)",
      "\u001B[0;32m<ipython-input-10-3b7e8e9ae94e>\u001B[0m in \u001B[0;36m<module>\u001B[0;34m\u001B[0m\n\u001B[1;32m      1\u001B[0m \u001B[0;31m# %%manim -qm -v WARNING SquareToCircle\u001B[0m\u001B[0;34m\u001B[0m\u001B[0;34m\u001B[0m\u001B[0;34m\u001B[0m\u001B[0m\n\u001B[1;32m      2\u001B[0m \u001B[0;34m\u001B[0m\u001B[0m\n\u001B[0;32m----> 3\u001B[0;31m \u001B[0;32mclass\u001B[0m \u001B[0mSquareToCircle\u001B[0m\u001B[0;34m(\u001B[0m\u001B[0mScene\u001B[0m\u001B[0;34m)\u001B[0m\u001B[0;34m:\u001B[0m\u001B[0;34m\u001B[0m\u001B[0;34m\u001B[0m\u001B[0m\n\u001B[0m\u001B[1;32m      4\u001B[0m     \u001B[0;32mdef\u001B[0m \u001B[0mconstruct\u001B[0m\u001B[0;34m(\u001B[0m\u001B[0mself\u001B[0m\u001B[0;34m)\u001B[0m\u001B[0;34m:\u001B[0m\u001B[0;34m\u001B[0m\u001B[0;34m\u001B[0m\u001B[0m\n\u001B[1;32m      5\u001B[0m         \u001B[0msquare\u001B[0m \u001B[0;34m=\u001B[0m \u001B[0mSquare\u001B[0m\u001B[0;34m(\u001B[0m\u001B[0;34m)\u001B[0m\u001B[0;34m\u001B[0m\u001B[0;34m\u001B[0m\u001B[0m\n",
      "\u001B[0;31mNameError\u001B[0m: name 'Scene' is not defined"
     ]
    }
   ],
   "source": [
    "# %%manim -qm -v WARNING SquareToCircle\n",
    "\n",
    "class SquareToCircle(Scene):\n",
    "    def construct(self):\n",
    "        square = Square()\n",
    "        circle = Circle()\n",
    "        circle.set_fill(PINK, opacity=0.5)\n",
    "        self.play(Create(square))\n",
    "        self.play(Transform(square, circle))\n",
    "        self.wait()"
   ],
   "metadata": {
    "collapsed": false,
    "pycharm": {
     "name": "#%%\n"
    }
   }
  },
  {
   "cell_type": "code",
   "execution_count": null,
   "outputs": [],
   "source": [],
   "metadata": {
    "collapsed": false,
    "pycharm": {
     "name": "#%%\n"
    }
   }
  }
 ],
 "metadata": {
  "kernelspec": {
   "display_name": "Python 3",
   "language": "python",
   "name": "python3"
  },
  "language_info": {
   "codemirror_mode": {
    "name": "ipython",
    "version": 2
   },
   "file_extension": ".py",
   "mimetype": "text/x-python",
   "name": "python",
   "nbconvert_exporter": "python",
   "pygments_lexer": "ipython2",
   "version": "2.7.6"
  }
 },
 "nbformat": 4,
 "nbformat_minor": 0
}